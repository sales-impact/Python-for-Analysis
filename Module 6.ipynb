{
 "cells": [
  {
   "cell_type": "markdown",
   "metadata": {},
   "source": [
    "# Welcome to Module 6! In this module you will learn how to write and read .csv and .xlsx files using Pandas. You will also learn how to transform data efficiently using Pandas and Numpy."
   ]
  },
  {
   "cell_type": "markdown",
   "metadata": {},
   "source": [
    "# Create a synthetic newspaper sales dataset Monday thru Sunday"
   ]
  },
  {
   "cell_type": "code",
   "execution_count": null,
   "metadata": {},
   "outputs": [],
   "source": [
    "import random\n",
    "import numpy as np\n",
    "import datetime\n",
    "import pandas as pd\n",
    "\n",
    "np.random.seed(20211102)\n",
    "\n",
    "shops = 1000\n",
    "days = 365 * 2\n",
    "starting_from = datetime.date(2020, 1, 1)\n",
    "ogr = np.random.randint(1,10, 1)\n",
    "\n",
    "shop_number_list = [shop for shop in np.random.randint(20000001, 29999999, shops) for x in range(days+1)]\n",
    "days_list = [(starting_from + datetime.timedelta(days=x)).strftime('%Y%m%d') for shop in range(shops) for x in range(days+1)]\n",
    "quantity_ordered_list = np.random.randint(0,20, shops * (days+1))\n",
    "quantity_returned_list = [min(np.random.randint(0,20), val) for val in quantity_ordered_list]\n",
    "\n",
    "# for shop in np.random.randint(20000001, 29999999, shops):\n",
    "#     for day in [(starting_from + datetime.timedelta(days=x)).strftime('%Y%m%d') for x in range(days+1)]:\n",
    "#         shop_number_list.append(shop)\n",
    "#         days_list.append(day)\n",
    "#         ordered = np.random.randint(0,20)\n",
    "#         quantity_ordered_list.append(ordered)\n",
    "#         quantity_returned_list.append(min(np.random.randint(0,20), ordered))\n",
    "        \n",
    "di_df = {'OBJECT': list(ogr) * len(shop_number_list), 'SHOP': shop_number_list, 'DAY': days_list, 'ORDERED' : quantity_ordered_list, 'RETURNED' : quantity_returned_list}\n",
    "\n",
    "data = pd.DataFrame(di_df)"
   ]
  },
  {
   "cell_type": "code",
   "execution_count": null,
   "metadata": {},
   "outputs": [],
   "source": [
    "# alternative with loop\n",
    "\n",
    "import random\n",
    "import numpy as np\n",
    "import datetime\n",
    "import pandas as pd\n",
    "\n",
    "np.random.seed(20211102)\n",
    "\n",
    "shops = 1000\n",
    "days = 365 * 2\n",
    "starting_from = datetime.date(2020, 1, 1)\n",
    "ogr = np.random.randint(1,10, 1)\n",
    "\n",
    "shop_number_list, days_list, quantity_ordered_list, quantity_returned_list = [], [], [], []\n",
    "\n",
    "# shop_number_list = [shop for shop in np.random.randint(20000001, 29999999, shops) for x in range(days+1)]\n",
    "# days_list = [(starting_from + datetime.timedelta(days=x)).strftime('%Y%m%d') for shop in range(shops) for x in range(days+1)]\n",
    "# quantity_ordered_list = np.random.randint(0,20, shops * (days+1))\n",
    "# quantity_returned_list = [min(np.random.randint(0,20), val) for val in quantity_ordered_list]\n",
    "\n",
    "for shop in np.random.randint(20000001, 29999999, shops):\n",
    "    for day in [(starting_from + datetime.timedelta(days=x)).strftime('%Y%m%d') for x in range(days+1)]:\n",
    "        shop_number_list.append(shop)\n",
    "        days_list.append(day)\n",
    "        ordered = np.random.randint(0,20)\n",
    "        quantity_ordered_list.append(ordered)\n",
    "        quantity_returned_list.append(min(np.random.randint(0,20), ordered))\n",
    "        \n",
    "di_df = {'OBJECT': list(ogr) * len(shop_number_list), 'SHOP': shop_number_list, 'DAY': days_list, 'ORDERED' : quantity_ordered_list, 'RETURNED' : quantity_returned_list}\n",
    "\n",
    "data = pd.DataFrame(di_df)"
   ]
  },
  {
   "cell_type": "markdown",
   "metadata": {},
   "source": [
    "# Navigating over the resulting DataFrame"
   ]
  },
  {
   "cell_type": "code",
   "execution_count": null,
   "metadata": {},
   "outputs": [],
   "source": [
    "# printing the dataframe head/tail\n",
    "data"
   ]
  },
  {
   "cell_type": "code",
   "execution_count": null,
   "metadata": {},
   "outputs": [],
   "source": [
    "# printing the dataframe head\n",
    "data.head()"
   ]
  },
  {
   "cell_type": "code",
   "execution_count": null,
   "metadata": {},
   "outputs": [],
   "source": [
    "# printing the dataframe tail\n",
    "data.tail()"
   ]
  },
  {
   "cell_type": "code",
   "execution_count": null,
   "metadata": {},
   "outputs": [],
   "source": [
    "# accessing the column ORDERED (this returns a pandas.Series)\n",
    "data.ORDERED"
   ]
  },
  {
   "cell_type": "markdown",
   "metadata": {},
   "source": [
    "# Creating new colums and navigate & analyze further"
   ]
  },
  {
   "cell_type": "code",
   "execution_count": null,
   "metadata": {},
   "outputs": [],
   "source": [
    "# create a new columns called SALES from the other two pandas.Series\n",
    "data['SALES'] = data.ORDERED - data.RETURNED"
   ]
  },
  {
   "cell_type": "code",
   "execution_count": null,
   "metadata": {},
   "outputs": [],
   "source": [
    "# create some date based columns\n",
    "data['WEEK'] = pd.to_datetime(data.DAY, format='%Y%m%d').apply(lambda x: x.strftime('%V'))\n",
    "data['WEEKDAY'] = pd.to_datetime(data.DAY, format='%Y%m%d').apply(lambda x: int(x.strftime('%w')) + 1)\n",
    "data['YEAR_WEEK'] = pd.to_datetime(data.DAY, format='%Y%m%d').apply(lambda x: x.strftime('%Y CW%V'))"
   ]
  },
  {
   "cell_type": "code",
   "execution_count": null,
   "metadata": {},
   "outputs": [],
   "source": [
    "data.head()"
   ]
  },
  {
   "cell_type": "code",
   "execution_count": null,
   "metadata": {},
   "outputs": [],
   "source": [
    "# get mean of series SALES\n",
    "data.SALES.mean()"
   ]
  },
  {
   "cell_type": "code",
   "execution_count": null,
   "metadata": {},
   "outputs": [],
   "source": [
    "# get standard deviation of series SALES\n",
    "data.SALES.std()"
   ]
  },
  {
   "cell_type": "code",
   "execution_count": null,
   "metadata": {},
   "outputs": [],
   "source": [
    "data[data.SALES < data.SALES.mean()]"
   ]
  },
  {
   "cell_type": "code",
   "execution_count": null,
   "metadata": {},
   "outputs": [],
   "source": [
    "# get number of unique shops with sales below mean\n",
    "data.loc[data.SALES < data.SALES.mean(), 'SHOP'].nunique()"
   ]
  },
  {
   "cell_type": "code",
   "execution_count": null,
   "metadata": {},
   "outputs": [],
   "source": [
    "# get sum of sales in year 2020\n",
    "data[data.DAY.str[:4] == '2020'].SALES.sum()"
   ]
  },
  {
   "cell_type": "code",
   "execution_count": null,
   "metadata": {},
   "outputs": [],
   "source": [
    "# get the top 10 selling shops in 2020\n",
    "data.groupby(by=['SHOP']).agg({'SALES': 'sum'}).reset_index().sort_values('SALES', ascending=False).head(10)"
   ]
  },
  {
   "cell_type": "code",
   "execution_count": null,
   "metadata": {},
   "outputs": [],
   "source": [
    "# get the top 10 selling days in 2020\n",
    "data.groupby(by=['DAY']).agg({'SALES': 'sum'}).reset_index().sort_values('SALES', ascending=False).head(10)"
   ]
  },
  {
   "cell_type": "markdown",
   "metadata": {},
   "source": [
    "# Do some vizualisation"
   ]
  },
  {
   "cell_type": "code",
   "execution_count": null,
   "metadata": {},
   "outputs": [],
   "source": [
    "# create the simple histogram\n",
    "import plotly.express as px\n",
    "fig = px.histogram(data, x=\"SALES\")\n",
    "fig.update_layout(\n",
    "    title_text='Sales distribution'\n",
    ")\n",
    "fig.show()"
   ]
  },
  {
   "cell_type": "code",
   "execution_count": null,
   "metadata": {},
   "outputs": [],
   "source": [
    "# create bar chart\n",
    "import plotly.express as px\n",
    "top10_weeks = data.groupby(by=['YEAR_WEEK']).agg({'SALES': 'sum'}).reset_index().sort_values('SALES', ascending=False).head(10).sort_values('YEAR_WEEK', ascending=True)\n",
    "fig = px.bar(top10_weeks, x='YEAR_WEEK', y='SALES')\n",
    "fig.update_layout(\n",
    "    title_text='Top 10 sales weeks'\n",
    ")\n",
    "fig.show()"
   ]
  },
  {
   "cell_type": "markdown",
   "metadata": {},
   "source": [
    "# Export to .xlsx or .csv file"
   ]
  },
  {
   "cell_type": "code",
   "execution_count": null,
   "metadata": {},
   "outputs": [],
   "source": [
    "data.to_excel('Module_6_V1.xlsx', index=False)"
   ]
  },
  {
   "cell_type": "code",
   "execution_count": null,
   "metadata": {},
   "outputs": [],
   "source": [
    "data.to_csv('Module_6_V1.csv', index=False)"
   ]
  },
  {
   "cell_type": "markdown",
   "metadata": {},
   "source": [
    "# Required reading:\n",
    "\n",
    "# [How to Think Like a Computer Scientist: Interactive Edition](https://runestone.academy/runestone/books/published/thinkcspy/index.html): Chapters 8 (8.10 – 8.14) and 9 (9.14 – 9.22)"
   ]
  },
  {
   "cell_type": "markdown",
   "metadata": {},
   "source": [
    "# Discussion:\n",
    "\n",
    "# Please answer the following question openly in the MS Teams channel.\n",
    "# *TODO*"
   ]
  },
  {
   "cell_type": "code",
   "execution_count": null,
   "metadata": {},
   "outputs": [],
   "source": []
  }
 ],
 "metadata": {
  "kernelspec": {
   "display_name": "Python 3 (ipykernel)",
   "language": "python",
   "name": "python3"
  },
  "language_info": {
   "codemirror_mode": {
    "name": "ipython",
    "version": 3
   },
   "file_extension": ".py",
   "mimetype": "text/x-python",
   "name": "python",
   "nbconvert_exporter": "python",
   "pygments_lexer": "ipython3",
   "version": "3.7.10"
  }
 },
 "nbformat": 4,
 "nbformat_minor": 2
}
