{
 "cells": [
  {
   "cell_type": "markdown",
   "metadata": {},
   "source": [
    "# Welcome to Module 5! In this module you will learn more about data structures such as lists, tuples, sets, and dictionaries. You will learn to apply these data structures in a meaningful way. Finally, we introduce some basic string methods."
   ]
  },
  {
   "cell_type": "markdown",
   "metadata": {},
   "source": [
    "# Learn the difference between lists and tuples using sets"
   ]
  },
  {
   "cell_type": "code",
   "execution_count": null,
   "metadata": {},
   "outputs": [],
   "source": [
    "# define and initialise a list\n",
    "li_test = [1,2,3] # square brackets"
   ]
  },
  {
   "cell_type": "code",
   "execution_count": null,
   "metadata": {},
   "outputs": [],
   "source": [
    "# define and initialise a tuple\n",
    "tup_test = (1,2,3) # brackets"
   ]
  },
  {
   "cell_type": "code",
   "execution_count": null,
   "metadata": {},
   "outputs": [],
   "source": [
    "# define and initialise two sets\n",
    "set_test_one = {1,2,3} # curly brackets\n",
    "set_test_two = {1,4,5}"
   ]
  },
  {
   "cell_type": "code",
   "execution_count": null,
   "metadata": {},
   "outputs": [],
   "source": [
    "# difference of two sets(from set theory)\n",
    "set_test_one - set_test_two"
   ]
  },
  {
   "cell_type": "code",
   "execution_count": null,
   "metadata": {},
   "outputs": [],
   "source": [
    "# intersection of two sets (from set theory)\n",
    "set_test_one.intersection(set_test_two)"
   ]
  },
  {
   "cell_type": "code",
   "execution_count": null,
   "metadata": {},
   "outputs": [],
   "source": [
    "# union of two sets (from set theory)\n",
    "set_test_one.union(set_test_two)"
   ]
  },
  {
   "cell_type": "code",
   "execution_count": null,
   "metadata": {},
   "outputs": [],
   "source": [
    "# lets examine the following line of code\n",
    "# it intends to show the additional functionality a list offers opposed to a tuple\n",
    "set(dir(li_test)) - set(dir(tup_test))"
   ]
  },
  {
   "cell_type": "markdown",
   "metadata": {},
   "source": [
    "# Learn about dictionaries"
   ]
  },
  {
   "cell_type": "code",
   "execution_count": null,
   "metadata": {},
   "outputs": [],
   "source": [
    "# define and initialise a dictionary\n",
    "di_test = {0: 'a', 1: 'b', 2: []}"
   ]
  },
  {
   "cell_type": "code",
   "execution_count": null,
   "metadata": {},
   "outputs": [],
   "source": [
    "di_test[1]"
   ]
  },
  {
   "cell_type": "markdown",
   "metadata": {},
   "source": [
    "# Solve a problem with list comprehensions"
   ]
  },
  {
   "cell_type": "code",
   "execution_count": null,
   "metadata": {},
   "outputs": [],
   "source": [
    "# https://leetcode.com/problems/climbing-stairs/\n",
    "\n",
    "# You are climbing a staircase. It takes n steps to reach the top.\n",
    "\n",
    "# Each time you can either climb 1 or 2 steps. In how many distinct ways can you climb to the top?\n",
    "\n",
    "from itertools import product\n",
    "\n",
    "def steps_combinations(n):\n",
    "    \n",
    "    li_combinations = []\n",
    "    for taken_steps in range(1, n+1):\n",
    "        li_combinations.extend([combination for combination in product(['s', 'd'], repeat=taken_steps) if (combination.count('s') * 1 + combination.count('d') * 2) == n])\n",
    "    \n",
    "    return len(li_combinations)\n",
    "\n",
    "[steps_combinations(n) for n in range(1,11)]"
   ]
  },
  {
   "cell_type": "code",
   "execution_count": null,
   "metadata": {},
   "outputs": [],
   "source": [
    "def step_combinations_v2(n):\n",
    "\n",
    "    solutions = []\n",
    "    \n",
    "    a, b = 0, 1\n",
    "    while len(solutions) < n+1:\n",
    "        solutions.append(a)\n",
    "        a, b = b, a + b\n",
    "        \n",
    "    return a\n",
    "        \n",
    "[step_combinations_v2(n) for n in range(1,11)]"
   ]
  },
  {
   "cell_type": "markdown",
   "metadata": {},
   "source": [
    "# Basic string methods"
   ]
  },
  {
   "cell_type": "code",
   "execution_count": null,
   "metadata": {},
   "outputs": [],
   "source": [
    "test_string = 'I am a great learner'"
   ]
  },
  {
   "cell_type": "code",
   "execution_count": null,
   "metadata": {},
   "outputs": [],
   "source": [
    "dir(test_string)"
   ]
  },
  {
   "cell_type": "code",
   "execution_count": null,
   "metadata": {},
   "outputs": [],
   "source": [
    "test_string.lower()"
   ]
  },
  {
   "cell_type": "code",
   "execution_count": null,
   "metadata": {},
   "outputs": [],
   "source": [
    "position = test_string.find('learner')"
   ]
  },
  {
   "cell_type": "code",
   "execution_count": null,
   "metadata": {},
   "outputs": [],
   "source": [
    "test_string[position:]"
   ]
  },
  {
   "cell_type": "markdown",
   "metadata": {},
   "source": [
    "# Required reading:\n",
    "\n",
    "# [How to Think Like a Computer Scientist: Interactive Edition](https://runestone.academy/runestone/books/published/thinkcspy/index.html): Chapters 9 (9.1 – 9.13), 10 (10.8 – 10.29), and 12"
   ]
  },
  {
   "cell_type": "markdown",
   "metadata": {},
   "source": [
    "# Discussion:\n",
    "\n",
    "# Please answer the following question openly in the MS Teams channel.\n",
    "# *We are learning this week that Python has several built-in data structures such as strings, lists, tuples, dictionaries, etc. Some of these are mutable and some are immutable. In your own words, describe what it means to be mutable and immutable. Which data structures are mutable and which are immutable? Which data structure(s) do you feel will be the easiest to work with and why?*"
   ]
  },
  {
   "cell_type": "code",
   "execution_count": null,
   "metadata": {},
   "outputs": [],
   "source": []
  }
 ],
 "metadata": {
  "kernelspec": {
   "display_name": "Python 3 (ipykernel)",
   "language": "python",
   "name": "python3"
  },
  "language_info": {
   "codemirror_mode": {
    "name": "ipython",
    "version": 3
   },
   "file_extension": ".py",
   "mimetype": "text/x-python",
   "name": "python",
   "nbconvert_exporter": "python",
   "pygments_lexer": "ipython3",
   "version": "3.7.10"
  }
 },
 "nbformat": 4,
 "nbformat_minor": 2
}
