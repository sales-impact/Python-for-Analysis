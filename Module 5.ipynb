{
 "cells": [
  {
   "cell_type": "markdown",
   "metadata": {},
   "source": [
    "# Welcome to Module 5! In this module you will learn more about data structures such as lists, tuples, sets, and dictionaries. You will learn to apply these data structures in a meaningful way. Finally, we introduce some basic string methods."
   ]
  },
  {
   "cell_type": "markdown",
   "metadata": {},
   "source": [
    "# Learn the difference between lists and tuples using sets"
   ]
  },
  {
   "cell_type": "code",
   "execution_count": null,
   "metadata": {},
   "outputs": [],
   "source": [
    "# define and initialise a list\n",
    "li_test = [1,2,3] # square brackets"
   ]
  },
  {
   "cell_type": "code",
   "execution_count": null,
   "metadata": {},
   "outputs": [],
   "source": [
    "# define and initialise a tuple\n",
    "tup_test = (1,2,3) # brackets"
   ]
  },
  {
   "cell_type": "code",
   "execution_count": null,
   "metadata": {},
   "outputs": [],
   "source": [
    "# define and initialise two sets\n",
    "set_test_one = {1,2,3} # curly brackets\n",
    "set_test_two = {1,4,5}"
   ]
  },
  {
   "cell_type": "code",
   "execution_count": null,
   "metadata": {},
   "outputs": [],
   "source": [
    "# difference of two sets(from set theory)\n",
    "set_test_one - set_test_two"
   ]
  },
  {
   "cell_type": "code",
   "execution_count": null,
   "metadata": {},
   "outputs": [],
   "source": [
    "# intersection of two sets (from set theory)\n",
    "set_test_one.intersection(set_test_two)"
   ]
  },
  {
   "cell_type": "code",
   "execution_count": null,
   "metadata": {},
   "outputs": [],
   "source": [
    "# union of two sets (from set theory)\n",
    "set_test_one.union(set_test_two)"
   ]
  },
  {
   "cell_type": "code",
   "execution_count": null,
   "metadata": {},
   "outputs": [],
   "source": [
    "# lets examine the following line of code\n",
    "# it intends to show the additional functionality a list offers opposed to a tuple\n",
    "set(dir(li_test)) - set(dir(tup_test))"
   ]
  },
  {
   "cell_type": "markdown",
   "metadata": {},
   "source": [
    "# Learn about dictionaries"
   ]
  },
  {
   "cell_type": "code",
   "execution_count": null,
   "metadata": {},
   "outputs": [],
   "source": [
    "# define and initialise a dictionary\n",
    "di_test = {0: 'a', 1: 'b', 2: []}"
   ]
  },
  {
   "cell_type": "code",
   "execution_count": null,
   "metadata": {},
   "outputs": [],
   "source": [
    "di_test[1]"
   ]
  },
  {
   "cell_type": "markdown",
   "metadata": {},
   "source": [
    "# Solve a problem with list comprehensions"
   ]
  },
  {
   "cell_type": "code",
   "execution_count": 46,
   "metadata": {},
   "outputs": [
    {
     "data": {
      "text/plain": [
       "[1, 2, 3, 5, 8, 13, 21, 34, 55, 89]"
      ]
     },
     "execution_count": 46,
     "metadata": {},
     "output_type": "execute_result"
    }
   ],
   "source": [
    "# https://leetcode.com/problems/climbing-stairs/\n",
    "\n",
    "# You are climbing a staircase. It takes n steps to reach the top.\n",
    "\n",
    "# Each time you can either climb 1 or 2 steps. In how many distinct ways can you climb to the top?\n",
    "\n",
    "from itertools import product\n",
    "\n",
    "def steps_combinations(n):\n",
    "    \n",
    "    li_combinations = []\n",
    "    for taken_steps in range(1, n+1):\n",
    "        li_combinations.extend([combination for combination in product(['s', 'd'], repeat=taken_steps) if (combination.count('s') * 1 + combination.count('d') * 2) == n])\n",
    "    \n",
    "    return len(li_combinations)\n",
    "\n",
    "[steps_combinations(n) for n in range(1,11)]"
   ]
  },
  {
   "cell_type": "code",
   "execution_count": 48,
   "metadata": {},
   "outputs": [
    {
     "data": {
      "text/plain": [
       "[1, 2, 3, 5, 8, 13, 21, 34, 55, 89]"
      ]
     },
     "execution_count": 48,
     "metadata": {},
     "output_type": "execute_result"
    }
   ],
   "source": [
    "def step_combinations_v2(n):\n",
    "\n",
    "    solutions = []\n",
    "    \n",
    "    a, b = 0, 1\n",
    "    while len(solutions) < n+1:\n",
    "        solutions.append(a)\n",
    "        a, b = b, a + b\n",
    "        \n",
    "    return a\n",
    "        \n",
    "[step_combinations_v2(n) for n in range(1,11)]"
   ]
  },
  {
   "cell_type": "markdown",
   "metadata": {},
   "source": [
    "# Explore modules from the Python standard library: https://docs.python.org/3.7/library/"
   ]
  },
  {
   "cell_type": "code",
   "execution_count": null,
   "metadata": {},
   "outputs": [],
   "source": [
    "# statistics is a library that offers a few statistical calculations\n",
    "from statistics import mean, stdev"
   ]
  },
  {
   "cell_type": "code",
   "execution_count": null,
   "metadata": {},
   "outputs": [],
   "source": [
    "average = mean(range(0,11)) # numbers from 0 to 10"
   ]
  },
  {
   "cell_type": "code",
   "execution_count": null,
   "metadata": {},
   "outputs": [],
   "source": [
    "average"
   ]
  },
  {
   "cell_type": "code",
   "execution_count": null,
   "metadata": {},
   "outputs": [],
   "source": [
    "standard_deviation = stdev(range(0,11)) # numbers from 0 to 10"
   ]
  },
  {
   "cell_type": "code",
   "execution_count": null,
   "metadata": {},
   "outputs": [],
   "source": [
    "standard_deviation"
   ]
  },
  {
   "cell_type": "code",
   "execution_count": null,
   "metadata": {},
   "outputs": [],
   "source": [
    "# pickle is a library to serialise Python objects\n",
    "import pickle\n",
    "\n",
    "pickle.dump( average, open( \"average.pkl\", \"wb\" ) )"
   ]
  },
  {
   "cell_type": "code",
   "execution_count": null,
   "metadata": {},
   "outputs": [],
   "source": [
    "average_loaded = pickle.load( open( \"average.pkl\", \"rb\" ) )"
   ]
  },
  {
   "cell_type": "code",
   "execution_count": null,
   "metadata": {},
   "outputs": [],
   "source": [
    "average_loaded"
   ]
  },
  {
   "cell_type": "code",
   "execution_count": null,
   "metadata": {},
   "outputs": [],
   "source": [
    "# itertools is a library to offers functions in the mathematical field of combinatorics\n",
    "from itertools import combinations\n",
    "\n",
    "list(combinations(range(0,11), 2)) # print all possible pair combinations"
   ]
  },
  {
   "cell_type": "markdown",
   "metadata": {},
   "source": [
    "# Bonus: Fibonacci recursively\n",
    "![](https://algol.dev/wp-content/uploads/2020/10/mirror_scene-compressor.jpg)\n",
    "<center>https://algol.dev/wp-content/uploads/2020/10/mirror_scene-compressor.jpg</center>"
   ]
  },
  {
   "cell_type": "code",
   "execution_count": null,
   "metadata": {},
   "outputs": [],
   "source": [
    "# function_calls = 0 # count the number of function calls\n",
    "\n",
    "def fibonacci_of(n):\n",
    "#     global function_calls\n",
    "#     function_calls += 1\n",
    "    if n in [0, 1]:  # Base case\n",
    "        return n\n",
    "    return fibonacci_of(n - 1) + fibonacci_of(n - 2)  # Recursive case"
   ]
  },
  {
   "cell_type": "code",
   "execution_count": null,
   "metadata": {},
   "outputs": [],
   "source": [
    "[fibonacci_of(n) for n in range(12)] #fibonacci numbers below 100"
   ]
  },
  {
   "cell_type": "code",
   "execution_count": null,
   "metadata": {},
   "outputs": [],
   "source": [
    "function_calls"
   ]
  },
  {
   "cell_type": "markdown",
   "metadata": {},
   "source": [
    "# Required reading:\n",
    "\n",
    "# [How to Think Like a Computer Scientist: Interactive Edition](https://runestone.academy/runestone/books/published/thinkcspy/index.html): Chapters 10 (10.1 – 10.7), and 11"
   ]
  },
  {
   "cell_type": "markdown",
   "metadata": {},
   "source": [
    "# Discussion:\n",
    "\n",
    "# Please answer the following question openly in the MS Teams channel.\n",
    "# *The following article summarizes some of the more commonly used file formats in Python. Our focus right now is on txt files, but as a data scientist your file formats will vary. After reading through this article, discuss your thoughts on how Python reads different file formats. Are there any that seem more straightforward or more difficult to work with? How do you envision using this process in your career?*\n",
    "\n",
    "# https://www.analyticsvidhya.com/blog/2017/03/read-commonly-used-formats-using-python/"
   ]
  },
  {
   "cell_type": "code",
   "execution_count": null,
   "metadata": {},
   "outputs": [],
   "source": []
  }
 ],
 "metadata": {
  "kernelspec": {
   "display_name": "Python 3 (ipykernel)",
   "language": "python",
   "name": "python3"
  },
  "language_info": {
   "codemirror_mode": {
    "name": "ipython",
    "version": 3
   },
   "file_extension": ".py",
   "mimetype": "text/x-python",
   "name": "python",
   "nbconvert_exporter": "python",
   "pygments_lexer": "ipython3",
   "version": "3.7.10"
  }
 },
 "nbformat": 4,
 "nbformat_minor": 2
}
