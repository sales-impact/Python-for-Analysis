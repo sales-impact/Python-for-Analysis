{
 "cells": [
  {
   "cell_type": "markdown",
   "metadata": {},
   "source": [
    "# Welcome to Module 4! In this module you will learn how to read & write text files, or append text to them. Also, we will use libraries from the Python standard library. Finally, we introduce dictionaries in Python."
   ]
  },
  {
   "cell_type": "markdown",
   "metadata": {},
   "source": [
    "# Read and write text files, also appending to text files"
   ]
  },
  {
   "cell_type": "code",
   "execution_count": null,
   "metadata": {},
   "outputs": [],
   "source": [
    "# write text to file\n",
    "with open('test.txt', 'w') as write_file:\n",
    "    write_file.write(\"Here is a line of text.\")"
   ]
  },
  {
   "cell_type": "code",
   "execution_count": null,
   "metadata": {},
   "outputs": [],
   "source": [
    "# read text file line by line (returns a list)\n",
    "with open('test.txt') as read_file:\n",
    "    lines = read_file.readlines()"
   ]
  },
  {
   "cell_type": "code",
   "execution_count": null,
   "metadata": {},
   "outputs": [],
   "source": [
    "# print content of read text file\n",
    "print(lines)"
   ]
  },
  {
   "cell_type": "code",
   "execution_count": null,
   "metadata": {},
   "outputs": [],
   "source": [
    "# append text to file\n",
    "with open('test.txt', 'a') as write_file:\n",
    "    write_file.write(\"Here is another line of text.\")"
   ]
  },
  {
   "cell_type": "code",
   "execution_count": null,
   "metadata": {},
   "outputs": [],
   "source": [
    "# read text file\n",
    "with open('test.txt') as read_file:\n",
    "    lines = read_file.readlines()"
   ]
  },
  {
   "cell_type": "code",
   "execution_count": null,
   "metadata": {},
   "outputs": [],
   "source": [
    "# print content of read text file\n",
    "print(lines)"
   ]
  },
  {
   "cell_type": "code",
   "execution_count": null,
   "metadata": {},
   "outputs": [],
   "source": [
    "# write text to file (the option 'w' overwrites previous content of file)\n",
    "with open('test.txt', 'w') as write_file:\n",
    "    write_file.write(\"Here is a line of text.\\nHere is another line of text.\")"
   ]
  },
  {
   "cell_type": "code",
   "execution_count": null,
   "metadata": {},
   "outputs": [],
   "source": [
    "# read text file\n",
    "with open('test.txt') as read_file:\n",
    "    lines = read_file.readlines()"
   ]
  },
  {
   "cell_type": "code",
   "execution_count": null,
   "metadata": {},
   "outputs": [],
   "source": [
    "# print content of read text file\n",
    "print(lines)"
   ]
  },
  {
   "cell_type": "code",
   "execution_count": null,
   "metadata": {},
   "outputs": [],
   "source": [
    "!pip install num2words"
   ]
  },
  {
   "cell_type": "code",
   "execution_count": null,
   "metadata": {},
   "outputs": [],
   "source": [
    "# using the advanced example from last week to write to the file\n",
    "from num2words import num2words\n",
    "import random\n",
    "\n",
    "random.seed(123)\n",
    "my_name = input('Enter your name: ')\n",
    "with open('test.txt', 'w') as write_file:\n",
    "    for i in [random.randint(0,100) for number in range(10)]: # <- lets dissect this line of code\n",
    "        write_file.write(f'{my_name} ({num2words(i, ordinal=True)})\\n')"
   ]
  },
  {
   "cell_type": "code",
   "execution_count": null,
   "metadata": {},
   "outputs": [],
   "source": [
    "# alternative version with appending to text file\n",
    "from num2words import num2words\n",
    "import random\n",
    "\n",
    "random.seed(321)\n",
    "my_name = input('Enter your name: ')\n",
    "for i in [random.randint(0,100) for number in range(10)]: # <- lets dissect this line of code\n",
    "    with open('test.txt', 'a') as write_file:\n",
    "        write_file.write(f'{my_name} ({num2words(i, ordinal=True)})\\n')"
   ]
  },
  {
   "cell_type": "code",
   "execution_count": null,
   "metadata": {},
   "outputs": [],
   "source": [
    "# read text file\n",
    "with open('test.txt') as read_file:\n",
    "    lines = read_file.readlines()"
   ]
  },
  {
   "cell_type": "code",
   "execution_count": null,
   "metadata": {},
   "outputs": [],
   "source": [
    "# alternative printing of content of read text file\n",
    "for line in lines:\n",
    "    print(line)"
   ]
  },
  {
   "cell_type": "markdown",
   "metadata": {},
   "source": [
    "# Explore modules from the Python standard library: https://docs.python.org/3.7/library/"
   ]
  },
  {
   "cell_type": "code",
   "execution_count": null,
   "metadata": {},
   "outputs": [],
   "source": [
    "# statistics is a library that offers a few statistical calculations\n",
    "from statistics import mean, stdev"
   ]
  },
  {
   "cell_type": "code",
   "execution_count": null,
   "metadata": {},
   "outputs": [],
   "source": [
    "average = mean(range(0,11)) # numbers from 0 to 10"
   ]
  },
  {
   "cell_type": "code",
   "execution_count": null,
   "metadata": {},
   "outputs": [],
   "source": [
    "average"
   ]
  },
  {
   "cell_type": "code",
   "execution_count": null,
   "metadata": {},
   "outputs": [],
   "source": [
    "standard_deviation = stdev(range(0,11)) # numbers from 0 to 10"
   ]
  },
  {
   "cell_type": "code",
   "execution_count": null,
   "metadata": {},
   "outputs": [],
   "source": [
    "standard_deviation"
   ]
  },
  {
   "cell_type": "code",
   "execution_count": null,
   "metadata": {},
   "outputs": [],
   "source": [
    "# pickle is a library to serialise Python objects\n",
    "import pickle\n",
    "\n",
    "pickle.dump( average, open( \"average.pkl\", \"wb\" ) )"
   ]
  },
  {
   "cell_type": "code",
   "execution_count": null,
   "metadata": {},
   "outputs": [],
   "source": [
    "average_loaded = pickle.load( open( \"average.pkl\", \"rb\" ) )"
   ]
  },
  {
   "cell_type": "code",
   "execution_count": null,
   "metadata": {},
   "outputs": [],
   "source": [
    "average_loaded"
   ]
  },
  {
   "cell_type": "code",
   "execution_count": null,
   "metadata": {},
   "outputs": [],
   "source": [
    "# itertools is a library to offers functions in the mathematical field of combinatorics\n",
    "from itertools import combinations\n",
    "\n",
    "list(combinations(range(0,11), 2)) # print all possible pair combinations"
   ]
  },
  {
   "cell_type": "markdown",
   "metadata": {},
   "source": [
    "# Bonus: Fibonacci recursively\n",
    "![](https://algol.dev/wp-content/uploads/2020/10/mirror_scene-compressor.jpg)\n",
    "<center>https://algol.dev/wp-content/uploads/2020/10/mirror_scene-compressor.jpg</center>"
   ]
  },
  {
   "cell_type": "code",
   "execution_count": null,
   "metadata": {},
   "outputs": [],
   "source": [
    "# function_calls = 0 # count the number of function calls\n",
    "\n",
    "def fibonacci_of(n):\n",
    "#     global function_calls\n",
    "#     function_calls += 1\n",
    "    if n in [0, 1]:  # Base case\n",
    "        return n\n",
    "    return fibonacci_of(n - 1) + fibonacci_of(n - 2)  # Recursive case"
   ]
  },
  {
   "cell_type": "code",
   "execution_count": null,
   "metadata": {},
   "outputs": [],
   "source": [
    "[fibonacci_of(n) for n in range(12)] #fibonacci numbers below 100"
   ]
  },
  {
   "cell_type": "code",
   "execution_count": null,
   "metadata": {},
   "outputs": [],
   "source": [
    "function_calls"
   ]
  },
  {
   "cell_type": "markdown",
   "metadata": {},
   "source": [
    "# Required reading:\n",
    "\n",
    "# [How to Think Like a Computer Scientist: Interactive Edition](https://runestone.academy/runestone/books/published/thinkcspy/index.html): Chapters 10 (10.1 – 10.7), and 11"
   ]
  },
  {
   "cell_type": "markdown",
   "metadata": {},
   "source": [
    "# Discussion:\n",
    "\n",
    "# Please answer the following question openly in the MS Teams channel.\n",
    "# *The following article summarizes some of the more commonly used file formats in Python. Our focus right now is on txt files, but as a data scientist your file formats will vary. After reading through this article, discuss your thoughts on how Python reads different file formats. Are there any that seem more straightforward or more difficult to work with? How do you envision using this process in your career?*\n",
    "\n",
    "# https://www.analyticsvidhya.com/blog/2017/03/read-commonly-used-formats-using-python/"
   ]
  },
  {
   "cell_type": "code",
   "execution_count": null,
   "metadata": {},
   "outputs": [],
   "source": []
  }
 ],
 "metadata": {
  "kernelspec": {
   "display_name": "Python 3 (ipykernel)",
   "language": "python",
   "name": "python3"
  },
  "language_info": {
   "codemirror_mode": {
    "name": "ipython",
    "version": 3
   },
   "file_extension": ".py",
   "mimetype": "text/x-python",
   "name": "python",
   "nbconvert_exporter": "python",
   "pygments_lexer": "ipython3",
   "version": "3.7.10"
  }
 },
 "nbformat": 4,
 "nbformat_minor": 2
}
