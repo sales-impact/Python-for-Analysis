{
 "cells": [
  {
   "cell_type": "markdown",
   "metadata": {},
   "source": [
    "## Welcome to Module 2! In this module you will learn about naming conventions, how to determine and recognize any possible data types, write and execute conditional statements, and how to discuss the algorithmic process of programs. For more material, please refer to the [Python 3 documentation: Chapter 4 - More Control Flow Tools](https://docs.python.org/3/tutorial/controlflow.html)."
   ]
  },
  {
   "cell_type": "markdown",
   "metadata": {},
   "source": [
    "# Naming conventions"
   ]
  },
  {
   "cell_type": "markdown",
   "metadata": {},
   "source": [
    "### Different nomenclatures according to PEP 8 (https://www.python.org/dev/peps/pep-0008/)\n",
    "\n",
    "b (single lowercase letter)\n",
    "\n",
    "B (single uppercase letter)\n",
    "\n",
    "lowercase\n",
    "\n",
    "lower_case_with_underscores\n",
    "\n",
    "UPPERCASE\n",
    "\n",
    "UPPER_CASE_WITH_UNDERSCORES\n",
    "\n",
    "CamelCase (CamelCase -- so named because of the bumpy look of its letters. Note: When using acronyms in CamelCase, capitalize all the letters of the acronym. Thus HTTPServerError is better than HttpServerError.)\n",
    "\n",
    "mixedCase (differs from CamelCase by initial lowercase character)\n",
    "\n",
    "Capitalized_Words_With_Underscore"
   ]
  },
  {
   "cell_type": "code",
   "execution_count": null,
   "metadata": {},
   "outputs": [],
   "source": [
    "# Executing this cell will also run into an error, since the function below has not been defined!\n",
    "\n",
    "parameter_one = 500\n",
    "parameter_two = 20\n",
    "\n",
    "my_own_function(parameter_one, parameter_two)"
   ]
  },
  {
   "cell_type": "markdown",
   "metadata": {},
   "source": [
    "# Data types"
   ]
  },
  {
   "cell_type": "code",
   "execution_count": null,
   "metadata": {},
   "outputs": [],
   "source": [
    "# different data types\n",
    "x = 5 # integer (int)\n",
    "y = 5.0 # float\n",
    "text = 'Hello, World!' # string with single quotes\n",
    "text2 = \"Hello, World!\" # string with double quotes"
   ]
  },
  {
   "cell_type": "code",
   "execution_count": null,
   "metadata": {},
   "outputs": [],
   "source": [
    "# returning the type of an int variable => be aware that we try to ask for the type of capital X which doesn't exist\n",
    "# this is called Python is case-sensitive\n",
    "type(X)"
   ]
  },
  {
   "cell_type": "code",
   "execution_count": null,
   "metadata": {},
   "outputs": [],
   "source": [
    "# returning the type of an int variable\n",
    "type(x)"
   ]
  },
  {
   "cell_type": "code",
   "execution_count": null,
   "metadata": {},
   "outputs": [],
   "source": [
    "# returning the type of a float variable\n",
    "type(text)"
   ]
  },
  {
   "cell_type": "code",
   "execution_count": null,
   "metadata": {},
   "outputs": [],
   "source": [
    "# returning the type of a string variable\n",
    "type(text2)"
   ]
  },
  {
   "cell_type": "code",
   "execution_count": null,
   "metadata": {},
   "outputs": [],
   "source": [
    "# what is this? note that the comma serves as a separator\n",
    "li = [3, 2, 1, 0]"
   ]
  },
  {
   "cell_type": "code",
   "execution_count": null,
   "metadata": {},
   "outputs": [],
   "source": [
    "# the variable is of the type: list\n",
    "type(li)"
   ]
  },
  {
   "cell_type": "code",
   "execution_count": null,
   "metadata": {},
   "outputs": [],
   "source": [
    "# print the squared result of my list element using a for-each loop\n",
    "for element in li:\n",
    "    print(element ** 2)"
   ]
  },
  {
   "cell_type": "code",
   "execution_count": null,
   "metadata": {},
   "outputs": [],
   "source": [
    "# slight alteration of the for-loop with keyword 'enumerate' using a for-each loop\n",
    "for element in range(3, -1, -1): # range uses the parameters: start, stop, step\n",
    "    print(element ** 2)"
   ]
  },
  {
   "cell_type": "code",
   "execution_count": null,
   "metadata": {},
   "outputs": [],
   "source": [
    "# experimenting with range (the built-in function list() converts the range object to a list)\n",
    "print('Example 1:', range(0), list(range(0)))\n",
    "print('Example 2:', range(1), list(range(1)))\n",
    "print('Example 3:', range(1,2), list(range(1,2)))\n",
    "print('Example 4:', range(1,3), list(range(1,3)))\n",
    "print('Example 5:', range(10,0,-1), list(range(10,0,-1)))"
   ]
  },
  {
   "cell_type": "code",
   "execution_count": null,
   "metadata": {},
   "outputs": [],
   "source": [
    "# learn more about range\n",
    "range?"
   ]
  },
  {
   "cell_type": "code",
   "execution_count": null,
   "metadata": {},
   "outputs": [],
   "source": [
    "li"
   ]
  },
  {
   "cell_type": "code",
   "execution_count": null,
   "metadata": {},
   "outputs": [],
   "source": [
    "# append another element, then show the contained elements of li\n",
    "li.append(-1)\n",
    "li"
   ]
  },
  {
   "cell_type": "code",
   "execution_count": null,
   "metadata": {},
   "outputs": [],
   "source": [
    "# print the squares again\n",
    "for element in li:\n",
    "    print(element ** 2)"
   ]
  },
  {
   "cell_type": "code",
   "execution_count": null,
   "metadata": {},
   "outputs": [],
   "source": [
    "# slight alteration of the for-loop with keyword 'enumerate'\n",
    "for index, element in enumerate(range(3, -2, -1)):\n",
    "    print(index, element ** 2)"
   ]
  },
  {
   "cell_type": "code",
   "execution_count": null,
   "metadata": {},
   "outputs": [],
   "source": [
    "li"
   ]
  },
  {
   "cell_type": "code",
   "execution_count": null,
   "metadata": {},
   "outputs": [],
   "source": [
    "# calling the index of a list\n",
    "li[0]"
   ]
  },
  {
   "cell_type": "code",
   "execution_count": null,
   "metadata": {},
   "outputs": [],
   "source": [
    "# calling the index of a list\n",
    "li[4]"
   ]
  },
  {
   "cell_type": "code",
   "execution_count": null,
   "metadata": {},
   "outputs": [],
   "source": [
    "# calling the index of a list\n",
    "li[5]"
   ]
  },
  {
   "cell_type": "code",
   "execution_count": null,
   "metadata": {},
   "outputs": [],
   "source": [
    "# learn about boolean types\n",
    "result_one = True\n",
    "result_two = False"
   ]
  },
  {
   "cell_type": "code",
   "execution_count": null,
   "metadata": {},
   "outputs": [],
   "source": [
    "# fetch the result of this inequality\n",
    "type(result_one)"
   ]
  },
  {
   "cell_type": "code",
   "execution_count": null,
   "metadata": {},
   "outputs": [],
   "source": [
    "# fetch the result of this comparison\n",
    "2 > 1"
   ]
  },
  {
   "cell_type": "code",
   "execution_count": null,
   "metadata": {},
   "outputs": [],
   "source": [
    "# fetch the result of this comparison\n",
    "1 > 2"
   ]
  },
  {
   "cell_type": "code",
   "execution_count": null,
   "metadata": {},
   "outputs": [],
   "source": [
    "# fetch the result of this comparison\n",
    "2 >= 2"
   ]
  },
  {
   "cell_type": "markdown",
   "metadata": {},
   "source": [
    "# Conditional statements"
   ]
  },
  {
   "cell_type": "code",
   "execution_count": null,
   "metadata": {},
   "outputs": [],
   "source": [
    "a = 1\n",
    "b = 4\n",
    "\n",
    "if a < b:\n",
    "    print('This is the way! I made it.')\n",
    "    \n",
    "if b < a:\n",
    "    print('This is the way! I made it, too.')"
   ]
  },
  {
   "cell_type": "code",
   "execution_count": null,
   "metadata": {},
   "outputs": [],
   "source": [
    "a = 1\n",
    "b = 4\n",
    "\n",
    "if a < b:\n",
    "    print('This is the way! I made it.')   \n",
    "else:\n",
    "    print('This is the way! I made it, too.')"
   ]
  },
  {
   "cell_type": "code",
   "execution_count": null,
   "metadata": {},
   "outputs": [],
   "source": [
    "a = 2\n",
    "b = 2\n",
    "\n",
    "if a < b:\n",
    "    print('This is the way! I made it.')   \n",
    "elif a == b:\n",
    "    print('Things seem to be even here.')  \n",
    "else:\n",
    "    print('This is the way! I made it, too.')"
   ]
  },
  {
   "cell_type": "markdown",
   "metadata": {},
   "source": [
    "# Conditional statements (Bonus)"
   ]
  },
  {
   "cell_type": "code",
   "execution_count": null,
   "metadata": {},
   "outputs": [],
   "source": [
    "# optional and from the end of module 1: fibonacci series\n",
    "# https://en.wikipedia.org/wiki/Fibonacci_number\n",
    "\n",
    "a, b = 0, 1\n",
    "while a < 100:\n",
    "    print(a)\n",
    "    a, b = b, a+b\n",
    "    \n",
    "# we will not examinate this example but look closer at the next one"
   ]
  },
  {
   "cell_type": "code",
   "execution_count": null,
   "metadata": {},
   "outputs": [],
   "source": [
    "# another iterative implementation: fibonacci series\n",
    "# try to understand the logic!\n",
    "\n",
    "N = 12 # number of elements\n",
    "\n",
    "# initialize the list with starting elements: 0, 1\n",
    "fibonacciSeries = [0,1]\n",
    "print(0)\n",
    "print(1)\n",
    "\n",
    "if N > 2:\n",
    "    for i in range(2, N): # numbers from 2 to N-1\n",
    "        # next elment in series = sum of its previous two numbers\n",
    "        nextElement = fibonacciSeries[i-1] + fibonacciSeries[i-2]\n",
    "        # append the element to the series\n",
    "        fibonacciSeries.append(nextElement)\n",
    "        print(nextElement)"
   ]
  },
  {
   "cell_type": "markdown",
   "metadata": {},
   "source": [
    "# Required reading:\n",
    "\n",
    "# [How to Think Like a Computer Scientist: Interactive Edition](https://runestone.academy/runestone/books/published/thinkcspy/index.html): Chapter 2 & 7"
   ]
  },
  {
   "cell_type": "markdown",
   "metadata": {},
   "source": [
    "# Discussion:\n",
    "\n",
    "# Please answer the following question openly in the MS Teams channel.\n",
    "\n",
    "# *Todo*"
   ]
  },
  {
   "cell_type": "code",
   "execution_count": null,
   "metadata": {},
   "outputs": [],
   "source": []
  }
 ],
 "metadata": {
  "kernelspec": {
   "display_name": "Python 3",
   "language": "python",
   "name": "python3"
  },
  "language_info": {
   "codemirror_mode": {
    "name": "ipython",
    "version": 3
   },
   "file_extension": ".py",
   "mimetype": "text/x-python",
   "name": "python",
   "nbconvert_exporter": "python",
   "pygments_lexer": "ipython3",
   "version": "3.6.5"
  }
 },
 "nbformat": 4,
 "nbformat_minor": 2
}
