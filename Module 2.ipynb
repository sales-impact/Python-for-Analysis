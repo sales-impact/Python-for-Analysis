{
 "cells": [
  {
   "cell_type": "markdown",
   "metadata": {},
   "source": [
    "## Welcome to Module 2! In this module you will learn about naming conventions, how to determine and recognize any possible data types, write and execute conditional statements, and how to discuss the algorithmic process of programs. For more material, please refer to the [Python 3 documentation: Chapter 4 - More Control Flow Tools](https://docs.python.org/3/tutorial/controlflow.html)."
   ]
  },
  {
   "cell_type": "markdown",
   "metadata": {},
   "source": [
    "# Naming conventions"
   ]
  },
  {
   "cell_type": "markdown",
   "metadata": {},
   "source": [
    "### Different nomenclatures according to PEP 8 (https://www.python.org/dev/peps/pep-0008/)\n",
    "\n",
    "b (single lowercase letter)\n",
    "\n",
    "B (single uppercase letter)\n",
    "\n",
    "lowercase\n",
    "\n",
    "lower_case_with_underscores\n",
    "\n",
    "UPPERCASE\n",
    "\n",
    "UPPER_CASE_WITH_UNDERSCORES\n",
    "\n",
    "CamelCase (CamelCase -- so named because of the bumpy look of its letters. Note: When using acronyms in CamelCase, capitalize all the letters of the acronym. Thus HTTPServerError is better than HttpServerError.)\n",
    "\n",
    "mixedCase (differs from CamelCase by initial lowercase character)\n",
    "\n",
    "Capitalized_Words_With_Underscore"
   ]
  },
  {
   "cell_type": "code",
   "execution_count": null,
   "metadata": {},
   "outputs": [],
   "source": [
    "# an example of good naming conventions together with declaring our first function\n",
    "\n",
    "parameter_one = 500\n",
    "parameter_two = 20\n",
    "\n",
    "def my_first_function(interface_parameter_one, interface_parameter_two):\n",
    "    \"\"\"Return the sum of the two inputs. \"\"\"\n",
    "    return interface_parameter_one + interface_parameter_two\n",
    "\n",
    "my_first_function(parameter_one, parameter_two)"
   ]
  },
  {
   "cell_type": "code",
   "execution_count": null,
   "metadata": {},
   "outputs": [],
   "source": [
    "my_first_function?"
   ]
  },
  {
   "cell_type": "markdown",
   "metadata": {},
   "source": [
    "# Data types"
   ]
  },
  {
   "cell_type": "code",
   "execution_count": null,
   "metadata": {},
   "outputs": [],
   "source": [
    "# assigning different data types to different varibles, and having many lines of statements in one code cell\n",
    "x = 5 # integer (int)\n",
    "y = 5.0 # float\n",
    "text = 'Hello, World!' # string with single quotes\n",
    "text2 = \"Hello, World!\" # string with double quotes\n",
    "result_one = True # boolean type with value True\n",
    "result_two = False # boolean type with value False"
   ]
  },
  {
   "cell_type": "code",
   "execution_count": null,
   "metadata": {},
   "outputs": [],
   "source": [
    "# returning the type of an int variable => be aware that we try to ask for the type of capital X which doesn't exist\n",
    "# this means Python is case-sensitive\n",
    "type(X)"
   ]
  },
  {
   "cell_type": "code",
   "execution_count": null,
   "metadata": {},
   "outputs": [],
   "source": [
    "# returning the type of an int variable\n",
    "type(x)"
   ]
  },
  {
   "cell_type": "code",
   "execution_count": null,
   "metadata": {},
   "outputs": [],
   "source": [
    "# returning the type of a float variable\n",
    "type(text)"
   ]
  },
  {
   "cell_type": "code",
   "execution_count": null,
   "metadata": {},
   "outputs": [],
   "source": [
    "# returning the type of a string variable\n",
    "type(text2)"
   ]
  },
  {
   "cell_type": "code",
   "execution_count": null,
   "metadata": {},
   "outputs": [],
   "source": [
    "# returning the type of a boolean variable\n",
    "type(result_one)"
   ]
  },
  {
   "cell_type": "code",
   "execution_count": null,
   "metadata": {},
   "outputs": [],
   "source": [
    "# what is this? note that the comma serves as a separator\n",
    "[0, 1, 2, 3]"
   ]
  },
  {
   "cell_type": "code",
   "execution_count": null,
   "metadata": {},
   "outputs": [],
   "source": [
    "# the variable is of the type: list\n",
    "type([0, 1, 2, 3])"
   ]
  },
  {
   "cell_type": "code",
   "execution_count": null,
   "metadata": {},
   "outputs": [],
   "source": [
    "list(range(4)) # creating the same list with the built-in function range"
   ]
  },
  {
   "cell_type": "code",
   "execution_count": null,
   "metadata": {},
   "outputs": [],
   "source": [
    "# experimenting with range (the built-in function list() converts the range object to a list)\n",
    "# the print statement prints all the different parameters that you pass to it\n",
    "print('Example 1:', range(0), list(range(0)))\n",
    "print('Example 2:', range(1), list(range(1)))\n",
    "print('Example 3:', range(0,1), list(range(0,1)))\n",
    "print('Example 4:', range(1,2), list(range(1,2)))\n",
    "print('Example 5:', range(1,3), list(range(1,3)))\n",
    "print('Example 6:', range(10,0,-1), list(range(10,0,-1)))"
   ]
  },
  {
   "cell_type": "code",
   "execution_count": null,
   "metadata": {},
   "outputs": [],
   "source": [
    "# learn more about range\n",
    "range?"
   ]
  },
  {
   "cell_type": "code",
   "execution_count": null,
   "metadata": {},
   "outputs": [],
   "source": [
    "# assign the list to a variable\n",
    "li = [0, 1, 2, 3]\n",
    "li"
   ]
  },
  {
   "cell_type": "code",
   "execution_count": null,
   "metadata": {},
   "outputs": [],
   "source": [
    "# append another element, then show the contained elements of li\n",
    "li.append(4)\n",
    "li"
   ]
  },
  {
   "cell_type": "code",
   "execution_count": null,
   "metadata": {},
   "outputs": [],
   "source": [
    "# calling the index of a list\n",
    "li[0]"
   ]
  },
  {
   "cell_type": "code",
   "execution_count": null,
   "metadata": {},
   "outputs": [],
   "source": [
    "# calling the index of a list\n",
    "li[4]"
   ]
  },
  {
   "cell_type": "code",
   "execution_count": null,
   "metadata": {},
   "outputs": [],
   "source": [
    "# calling the index of a list\n",
    "li[5]"
   ]
  },
  {
   "cell_type": "code",
   "execution_count": null,
   "metadata": {},
   "outputs": [],
   "source": [
    "# calling the index of a list with a negative index\n",
    "li[-1]"
   ]
  },
  {
   "cell_type": "code",
   "execution_count": null,
   "metadata": {},
   "outputs": [],
   "source": [
    "li"
   ]
  },
  {
   "cell_type": "code",
   "execution_count": null,
   "metadata": {},
   "outputs": [],
   "source": [
    "# slicing a list. second last to last element please.\n",
    "li[-2:]"
   ]
  },
  {
   "cell_type": "code",
   "execution_count": null,
   "metadata": {},
   "outputs": [],
   "source": [
    "# slicing a list. second to last element please.\n",
    "li[2:]"
   ]
  },
  {
   "cell_type": "code",
   "execution_count": null,
   "metadata": {},
   "outputs": [],
   "source": [
    "# slicing a list. last to second last element in that order please.\n",
    "li[-1:-2:-1]"
   ]
  },
  {
   "cell_type": "code",
   "execution_count": null,
   "metadata": {},
   "outputs": [],
   "source": [
    "# slicing a list. reverse order thru negative steps please.\n",
    "li[::-1]"
   ]
  },
  {
   "cell_type": "code",
   "execution_count": null,
   "metadata": {},
   "outputs": [],
   "source": [
    "li"
   ]
  },
  {
   "cell_type": "code",
   "execution_count": null,
   "metadata": {},
   "outputs": [],
   "source": [
    "del li[4]"
   ]
  },
  {
   "cell_type": "code",
   "execution_count": null,
   "metadata": {},
   "outputs": [],
   "source": [
    "li"
   ]
  },
  {
   "cell_type": "code",
   "execution_count": null,
   "metadata": {},
   "outputs": [],
   "source": [
    "# a very pythonic one: you can use list comprehensions (slightly advanced for now)\n",
    "# useful for removing elements by the element value\n",
    "li_other = [x * 10 for x in li]"
   ]
  },
  {
   "cell_type": "code",
   "execution_count": null,
   "metadata": {},
   "outputs": [],
   "source": [
    "# display other list\n",
    "li_other"
   ]
  },
  {
   "cell_type": "code",
   "execution_count": null,
   "metadata": {},
   "outputs": [],
   "source": [
    "# list comprehension to remove an element by its value\n",
    "[x for x in li_other if x != 30]"
   ]
  },
  {
   "cell_type": "code",
   "execution_count": null,
   "metadata": {},
   "outputs": [],
   "source": [
    "# minimum of this list (if exists)\n",
    "min(li_other)"
   ]
  },
  {
   "cell_type": "code",
   "execution_count": null,
   "metadata": {},
   "outputs": [],
   "source": [
    "# maximum element of this list (if exists)\n",
    "max(li_other)"
   ]
  },
  {
   "cell_type": "code",
   "execution_count": null,
   "metadata": {},
   "outputs": [],
   "source": [
    "# sum of all list elements\n",
    "sum(li_other)"
   ]
  },
  {
   "cell_type": "code",
   "execution_count": null,
   "metadata": {},
   "outputs": [],
   "source": [
    "# number of elements\n",
    "len(li_other)"
   ]
  },
  {
   "cell_type": "code",
   "execution_count": null,
   "metadata": {},
   "outputs": [],
   "source": [
    "# mean value of such a list\n",
    "sum(li_other) / len(li_other)"
   ]
  },
  {
   "cell_type": "markdown",
   "metadata": {},
   "source": [
    "# Conditional statements and comparison operators"
   ]
  },
  {
   "cell_type": "code",
   "execution_count": null,
   "metadata": {},
   "outputs": [],
   "source": [
    "# fetch the boolean result of this comparison using a comparison operator\n",
    "2 > 1 # greater than"
   ]
  },
  {
   "cell_type": "code",
   "execution_count": null,
   "metadata": {},
   "outputs": [],
   "source": [
    "# fetch the booleanresult of this comparison\n",
    "1 > 2 # greater than"
   ]
  },
  {
   "cell_type": "code",
   "execution_count": null,
   "metadata": {},
   "outputs": [],
   "source": [
    "# fetch the boolean result of this comparison\n",
    "2 >= 2 # greater than or equal to"
   ]
  },
  {
   "cell_type": "code",
   "execution_count": null,
   "metadata": {},
   "outputs": [],
   "source": [
    "# fetch the boolean result of this comparison\n",
    "2 == 2 # equal to"
   ]
  },
  {
   "cell_type": "code",
   "execution_count": null,
   "metadata": {},
   "outputs": [],
   "source": [
    "# fetch the boolean result of this comparison \n",
    "2 != 2.5 # not equal to"
   ]
  },
  {
   "cell_type": "code",
   "execution_count": null,
   "metadata": {},
   "outputs": [],
   "source": [
    "# strings can be compared, too!\n",
    "# https://en.wikipedia.org/wiki/Lexicographic_order\n",
    "'Berlin' > 'Paris' # strings are compared in lexicographical order"
   ]
  },
  {
   "cell_type": "code",
   "execution_count": null,
   "metadata": {},
   "outputs": [],
   "source": [
    "# another string comparison\n",
    "'St. Petersburg' > 'Paris'"
   ]
  },
  {
   "cell_type": "code",
   "execution_count": null,
   "metadata": {},
   "outputs": [],
   "source": [
    "# compare two numbers through comparisons and print the outcome\n",
    "a = 1\n",
    "b = 4\n",
    "\n",
    "if a < b:\n",
    "    print('This is the way!')    \n",
    "if b < a:\n",
    "    print('This is the way! I made it, too.')"
   ]
  },
  {
   "cell_type": "code",
   "execution_count": null,
   "metadata": {},
   "outputs": [],
   "source": [
    "# compare two numbers through an if-else statement and print mutually exclusive the outcome\n",
    "a = 4\n",
    "b = 1\n",
    "\n",
    "if a < b:\n",
    "    print('This is the way!')   \n",
    "else:\n",
    "    print('This is the way! I made it, too.')"
   ]
  },
  {
   "cell_type": "code",
   "execution_count": null,
   "metadata": {},
   "outputs": [],
   "source": [
    "# compare two numbers through an if-elif-else statement and print three exclusive the outcomes\n",
    "a = 2\n",
    "b = 2\n",
    "\n",
    "if a < b:\n",
    "    print('This is the way!')   \n",
    "elif a == b: # two equal signs stand for equality\n",
    "    print('Things seem to be even here.')  \n",
    "else:\n",
    "    print('This is the way! I made it, too.')"
   ]
  },
  {
   "cell_type": "markdown",
   "metadata": {},
   "source": [
    "# Bonus!: Conditional statements with a preview of using loops. Loops will be taught in Module 3."
   ]
  },
  {
   "cell_type": "code",
   "execution_count": null,
   "metadata": {},
   "outputs": [],
   "source": [
    "# optional and from the end of module 1: fibonacci series\n",
    "# https://en.wikipedia.org/wiki/Fibonacci_number\n",
    "\n",
    "a, b = 0, 1\n",
    "while a < 100:\n",
    "    print(a)\n",
    "    a, b = b, a+b\n",
    "    \n",
    "# we will not examinate this example but look closer at the next one"
   ]
  },
  {
   "cell_type": "code",
   "execution_count": null,
   "metadata": {},
   "outputs": [],
   "source": [
    "# another iterative implementation: fibonacci series\n",
    "# try to understand the logic! how does the implementation differ from the first one?\n",
    "\n",
    "N = 12 # number of elements to be displayed\n",
    "\n",
    "# initialize the list with starting elements: 0, 1\n",
    "fibonacciSeries = [0,1]\n",
    "print(0)\n",
    "print(1)\n",
    "\n",
    "if N > 2:\n",
    "    for i in range(2, N): # numbers from 2 to N-1\n",
    "        # next elment in series = sum of its previous two numbers\n",
    "        nextElement = fibonacciSeries[i-1] + fibonacciSeries[i-2]\n",
    "        # append the element to the series\n",
    "        fibonacciSeries.append(nextElement)\n",
    "        print(nextElement)"
   ]
  },
  {
   "cell_type": "markdown",
   "metadata": {},
   "source": [
    "# Required reading:\n",
    "\n",
    "# [How to Think Like a Computer Scientist: Interactive Edition](https://runestone.academy/runestone/books/published/thinkcspy/index.html): Chapter 2 & 7"
   ]
  },
  {
   "cell_type": "markdown",
   "metadata": {},
   "source": [
    "# Discussion:\n",
    "\n",
    "# Please answer the following question openly in the MS Teams channel.\n",
    "\n",
    "# *A German proverb that you probably know says ‘order is half the life’, or in English ‘A tidy house, a tidy mind.’. Please tell me how this statement applies to coding in Python, the naming conventions we learned, and explain what you understand under the term ‘clean code’ and why clean code could be useful in the context of working with Python.*"
   ]
  },
  {
   "cell_type": "code",
   "execution_count": null,
   "metadata": {},
   "outputs": [],
   "source": []
  }
 ],
 "metadata": {
  "kernelspec": {
   "display_name": "Python 3",
   "language": "python",
   "name": "python3"
  },
  "language_info": {
   "codemirror_mode": {
    "name": "ipython",
    "version": 3
   },
   "file_extension": ".py",
   "mimetype": "text/x-python",
   "name": "python",
   "nbconvert_exporter": "python",
   "pygments_lexer": "ipython3",
   "version": "3.6.5"
  }
 },
 "nbformat": 4,
 "nbformat_minor": 2
}
