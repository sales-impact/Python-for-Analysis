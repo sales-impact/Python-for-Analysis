{
 "cells": [
  {
   "attachments": {},
   "cell_type": "markdown",
   "metadata": {},
   "source": [
    "## Welcome to Module 3! In this module you will learn about create and execute loops, perform calculations using built-in functions, define new functions, and investigate the importance of comments within a program."
   ]
  },
  {
   "cell_type": "markdown",
   "metadata": {},
   "source": [
    "# Create and execute loops"
   ]
  },
  {
   "cell_type": "code",
   "execution_count": null,
   "metadata": {},
   "outputs": [],
   "source": [
    "# optional and from the end of module 1: fibonacci series\n",
    "# https://en.wikipedia.org/wiki/Fibonacci_number\n",
    "\n",
    "a, b = 0, 1\n",
    "while a < 100:\n",
    "    print(a)\n",
    "    a, b = b, a+b\n",
    "    \n",
    "# we will not examinate this example but look closer at the next one"
   ]
  },
  {
   "cell_type": "code",
   "execution_count": null,
   "metadata": {},
   "outputs": [],
   "source": [
    "# another iterative implementation: fibonacci series\n",
    "# try to understand the logic! how does the implementation differ from the first one?\n",
    "\n",
    "N = 12 # number of elements to be displayed\n",
    "\n",
    "# initialize the list with starting elements: 0, 1\n",
    "fibonacciSeries = [0,1]\n",
    "print(0)\n",
    "print(1)\n",
    "\n",
    "if N > 2:\n",
    "    for i in range(2, N): # numbers from 2 to N-1\n",
    "        # next elment in series = sum of its previous two numbers\n",
    "        nextElement = fibonacciSeries[i-1] + fibonacciSeries[i-2]\n",
    "        # append the element to the series\n",
    "        fibonacciSeries.append(nextElement)\n",
    "        print(nextElement)"
   ]
  },
  {
   "cell_type": "markdown",
   "metadata": {},
   "source": [
    "# Perform calculations using built-in functions"
   ]
  },
  {
   "cell_type": "code",
   "execution_count": null,
   "metadata": {},
   "outputs": [],
   "source": []
  },
  {
   "cell_type": "markdown",
   "metadata": {},
   "source": [
    "# Define new functions"
   ]
  },
  {
   "cell_type": "code",
   "execution_count": null,
   "metadata": {},
   "outputs": [],
   "source": [
    "def my_first_function(interface_parameter_one, interface_parameter_two):\n",
    "    \"\"\"Return the sum of the two inputs. \"\"\"\n",
    "    return interface_parameter_one + interface_parameter_two"
   ]
  },
  {
   "attachments": {},
   "cell_type": "markdown",
   "metadata": {},
   "source": [
    "# Required reading:\n",
    "\n",
    "# [How to Think Like a Computer Scientist: Interactive Edition](https://runestone.academy/runestone/books/published/thinkcspy/index.html): Chapters 5, 6, 8 (8.1 – 8.9), 15 (15.1 –15.3)"
   ]
  },
  {
   "attachments": {},
   "cell_type": "markdown",
   "metadata": {},
   "source": [
    "# Discussion:\n",
    "\n",
    "# Please answer the following question openly in the MS Teams channel.\n",
    "# *Consider the following (pseudo) code! First, what is your best guess as to what this code is trying to do? Keep in mind, there are errors in this code, and there is no “right” answer as to its intent. Once you’ve decided what you feel is the goal of this code, share your thoughts on this while pointing out any errors. Show us your corrected version of this program.*"
   ]
  },
  {
   "cell_type": "code",
   "execution_count": null,
   "metadata": {},
   "outputs": [],
   "source": [
    "n = 10\n",
    "i = 10\n",
    "\n",
    "while i > 0:\n",
    "    print i\n",
    "    if i % 2 == 0:\n",
    "        i = i/2\n",
    "    else:\n",
    "        i = i + 1"
   ]
  },
  {
   "cell_type": "code",
   "execution_count": null,
   "metadata": {},
   "outputs": [],
   "source": []
  }
 ],
 "metadata": {
  "kernelspec": {
   "display_name": "Python 3",
   "language": "python",
   "name": "python3"
  },
  "language_info": {
   "codemirror_mode": {
    "name": "ipython",
    "version": 3
   },
   "file_extension": ".py",
   "mimetype": "text/x-python",
   "name": "python",
   "nbconvert_exporter": "python",
   "pygments_lexer": "ipython3",
   "version": "3.6.5"
  }
 },
 "nbformat": 4,
 "nbformat_minor": 2
}
