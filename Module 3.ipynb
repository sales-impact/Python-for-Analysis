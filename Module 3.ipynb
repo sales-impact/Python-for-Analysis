{
 "cells": [
  {
   "cell_type": "markdown",
   "metadata": {},
   "source": [
    "## Welcome to Module 3! In this module you will learn how to about create and execute loops, perform calculations using built-in functions, define new functions, and investigate the importance of comments within a program."
   ]
  },
  {
   "cell_type": "markdown",
   "metadata": {},
   "source": [
    "# Create and execute loops"
   ]
  },
  {
   "cell_type": "code",
   "execution_count": null,
   "metadata": {},
   "outputs": [],
   "source": [
    "# this first example is from the end of module 1: fibonacci series\n",
    "# read more about this number series here: https://en.wikipedia.org/wiki/Fibonacci_number\n",
    "\n",
    "a, b = 0, 1\n",
    "while a < 100:\n",
    "    print(a)\n",
    "    a, b = b, a+b\n",
    "    \n",
    "# we will not examinate this example but look closer at the next one"
   ]
  },
  {
   "cell_type": "code",
   "execution_count": null,
   "metadata": {},
   "outputs": [],
   "source": [
    "# another iterative implementation: fibonacci series\n",
    "# try to understand the logic! how does the implementation differ from the first one?\n",
    "\n",
    "N = 12 # number of elements to be displayed\n",
    "\n",
    "# initialize the list with starting elements: 0, 1\n",
    "fibonacciSeries = [0,1]\n",
    "print(0)\n",
    "print(1)\n",
    "\n",
    "if N > 2:\n",
    "    for i in range(2, N): # numbers from 2 to N-1\n",
    "        # next elment in series = sum of its previous two numbers\n",
    "        nextElement = fibonacciSeries[i-1] + fibonacciSeries[i-2]\n",
    "        # append the element to the series\n",
    "        fibonacciSeries.append(nextElement)\n",
    "        print(nextElement)"
   ]
  },
  {
   "cell_type": "markdown",
   "metadata": {},
   "source": [
    "# More examples of the for loop"
   ]
  },
  {
   "cell_type": "code",
   "execution_count": null,
   "metadata": {},
   "outputs": [],
   "source": [
    "# the for loop that does nothing\n",
    "for i in range(10):\n",
    "    pass"
   ]
  },
  {
   "cell_type": "code",
   "execution_count": null,
   "metadata": {},
   "outputs": [],
   "source": [
    "# the for loop for printing numbers\n",
    "for i in range(10):\n",
    "    print(i)"
   ]
  },
  {
   "cell_type": "code",
   "execution_count": null,
   "metadata": {},
   "outputs": [],
   "source": [
    "# the for loop for printing even numbers\n",
    "for i in range(10):\n",
    "    if i % 2 == 0:\n",
    "        print(i)\n",
    "    else:\n",
    "        continue"
   ]
  },
  {
   "cell_type": "code",
   "execution_count": null,
   "metadata": {},
   "outputs": [],
   "source": [
    "# the for loop for printing until a specific point\n",
    "for i in range(10):\n",
    "    print(i)\n",
    "    if i == 5:\n",
    "        break"
   ]
  },
  {
   "cell_type": "code",
   "execution_count": null,
   "metadata": {},
   "outputs": [],
   "source": [
    "# similar but with the conditional first\n",
    "for i in range(10):\n",
    "    if i == 5:\n",
    "        break\n",
    "    print(i)"
   ]
  },
  {
   "cell_type": "code",
   "execution_count": null,
   "metadata": {},
   "outputs": [],
   "source": [
    "# a funny example for small numbers\n",
    "my_name = input('Enter your name: ')\n",
    "for i in range(1,6):\n",
    "    count = str(i) # str() is a built-in function and converts into a string\n",
    "    if i == 1:\n",
    "        count = count + 'st'\n",
    "    elif i == 2:\n",
    "        count = count + 'nd'\n",
    "    elif i == 3:\n",
    "        count = count + 'rd'\n",
    "    else:\n",
    "        count = count + 'th'\n",
    "    print(my_name + f' ({count})')"
   ]
  },
  {
   "cell_type": "code",
   "execution_count": null,
   "metadata": {},
   "outputs": [],
   "source": [
    "# a funny example for large numbers\n",
    "my_name = input('Enter your name: ')\n",
    "for i in range(123, 231):\n",
    "    count = str(i)\n",
    "    if i % 10 == 1:\n",
    "        count = count + 'st'\n",
    "    elif i % 10 == 2:\n",
    "        count = count + 'nd'\n",
    "    elif i % 10 == 3:\n",
    "        count = count + 'rd'\n",
    "    else:\n",
    "        count = count + 'th'\n",
    "    print(my_name + f' ({count})')"
   ]
  },
  {
   "cell_type": "code",
   "execution_count": null,
   "metadata": {},
   "outputs": [],
   "source": [
    "!pip install num2words"
   ]
  },
  {
   "cell_type": "code",
   "execution_count": null,
   "metadata": {},
   "outputs": [],
   "source": [
    "# a funny example for any randomly generated numbers\n",
    "from num2words import num2words\n",
    "import random\n",
    "\n",
    "random.seed(123)\n",
    "my_name = input('Enter your name: ')\n",
    "for i in [random.randint(0,100) for number in range(10)]: # <- lets dissect this line of code\n",
    "    print(my_name + f' ({num2words(i, ordinal=True)})')"
   ]
  },
  {
   "cell_type": "code",
   "execution_count": null,
   "metadata": {},
   "outputs": [],
   "source": [
    "[number for number in range(10)]"
   ]
  },
  {
   "cell_type": "code",
   "execution_count": null,
   "metadata": {},
   "outputs": [],
   "source": [
    "[random.randint(0,100) for number in range(10)]"
   ]
  },
  {
   "cell_type": "markdown",
   "metadata": {},
   "source": [
    "# Perform calculations using built-in functions"
   ]
  },
  {
   "cell_type": "code",
   "execution_count": null,
   "metadata": {},
   "outputs": [],
   "source": [
    "# get a list of the built-in functions\n",
    "dir() # what is available at the top level of the python interpreter context"
   ]
  },
  {
   "cell_type": "code",
   "execution_count": null,
   "metadata": {},
   "outputs": [],
   "source": [
    "# what are built-in functions and objects in Python?\n",
    "dir(__builtin__)"
   ]
  },
  {
   "cell_type": "code",
   "execution_count": null,
   "metadata": {},
   "outputs": [],
   "source": [
    "# take the sum again\n",
    "import random\n",
    "random.seed(123) # required for reproducibility\n",
    "list_random = [random.randint(0,100) for number in range(10)]\n",
    "list_random_two = [random.randint(-20,10) for number in range(10)]"
   ]
  },
  {
   "cell_type": "code",
   "execution_count": null,
   "metadata": {},
   "outputs": [],
   "source": [
    "sum(list_random)"
   ]
  },
  {
   "cell_type": "code",
   "execution_count": null,
   "metadata": {},
   "outputs": [],
   "source": [
    "min(list_random)"
   ]
  },
  {
   "cell_type": "code",
   "execution_count": null,
   "metadata": {},
   "outputs": [],
   "source": [
    "max(list_random)"
   ]
  },
  {
   "cell_type": "code",
   "execution_count": null,
   "metadata": {},
   "outputs": [],
   "source": [
    "sorted(list_random)"
   ]
  },
  {
   "cell_type": "code",
   "execution_count": null,
   "metadata": {},
   "outputs": [],
   "source": [
    "# accessing the index of a list in a loop\n",
    "for index, number in enumerate(list_random): # useful function if the index is required\n",
    "    print(f'Value {number} at place {index}')"
   ]
  },
  {
   "cell_type": "code",
   "execution_count": null,
   "metadata": {},
   "outputs": [],
   "source": [
    "# zipping two lists\n",
    "for first, second in zip(list_random, list_random_two):\n",
    "    print(f'First element: {first}. Second element: {second}.')"
   ]
  },
  {
   "cell_type": "code",
   "execution_count": null,
   "metadata": {},
   "outputs": [],
   "source": [
    "# calculate the mean absolute error of both lists\n",
    "import pandas as pd # package for transforming data a.k.a. data wrangling\n",
    "absolute_difference = abs(pd.Series(list_random) - pd.Series(list_random_two))\n",
    "sum(absolute_difference) / len(absolute_difference)"
   ]
  },
  {
   "cell_type": "code",
   "execution_count": null,
   "metadata": {},
   "outputs": [],
   "source": [
    "# confirm the calculation with an existing function\n",
    "from sklearn.metrics import mean_absolute_error # sklearn is a package for machine learning\n",
    "mean_absolute_error(list_random, list_random_two)"
   ]
  },
  {
   "cell_type": "markdown",
   "metadata": {},
   "source": [
    "# Define new functions"
   ]
  },
  {
   "cell_type": "code",
   "execution_count": null,
   "metadata": {},
   "outputs": [],
   "source": [
    "def my_first_function(interface_parameter_one, interface_parameter_two):\n",
    "    \"\"\"Return the sum of the two inputs. \"\"\"\n",
    "    return interface_parameter_one + interface_parameter_two"
   ]
  },
  {
   "cell_type": "markdown",
   "metadata": {},
   "source": [
    "# Required reading:\n",
    "\n",
    "# [How to Think Like a Computer Scientist: Interactive Edition](https://runestone.academy/runestone/books/published/thinkcspy/index.html): Chapters 5, 6, 8 (8.1 – 8.9), 15 (15.1 –15.3)"
   ]
  },
  {
   "cell_type": "markdown",
   "metadata": {},
   "source": [
    "# Discussion:\n",
    "\n",
    "# Please answer the following question openly in the MS Teams channel.\n",
    "# *Consider the following (pseudo) code! First, what is your best guess as to what this code is trying to do? Keep in mind, there are errors in this code, and there is no “right” answer as to its intent. Once you’ve decided what you feel is the goal of this code, share your thoughts on this while pointing out any errors. Show us your corrected version of this program.*"
   ]
  },
  {
   "cell_type": "code",
   "execution_count": null,
   "metadata": {},
   "outputs": [],
   "source": [
    "n = 10\n",
    "i = 10\n",
    "\n",
    "while i > 0:\n",
    "    print i\n",
    "    if i % 2 == 0:\n",
    "        i = i/2\n",
    "    else:\n",
    "        i = i + 1"
   ]
  },
  {
   "cell_type": "code",
   "execution_count": null,
   "metadata": {},
   "outputs": [],
   "source": []
  }
 ],
 "metadata": {
  "kernelspec": {
   "display_name": "Python 3",
   "language": "python",
   "name": "python3"
  },
  "language_info": {
   "codemirror_mode": {
    "name": "ipython",
    "version": 3
   },
   "file_extension": ".py",
   "mimetype": "text/x-python",
   "name": "python",
   "nbconvert_exporter": "python",
   "pygments_lexer": "ipython3",
   "version": "3.6.5"
  }
 },
 "nbformat": 4,
 "nbformat_minor": 2
}
